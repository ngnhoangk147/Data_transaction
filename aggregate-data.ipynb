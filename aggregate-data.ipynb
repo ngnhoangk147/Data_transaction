{
 "cells": [
  {
   "cell_type": "code",
   "execution_count": 81,
   "metadata": {},
   "outputs": [],
   "source": [
    "from pyspark.sql import SparkSession"
   ]
  },
  {
   "cell_type": "code",
   "execution_count": 82,
   "metadata": {},
   "outputs": [],
   "source": [
    "spark = SparkSession.builder.appName(\"Daily transactions processing\") \\\n",
    "            .config(\"spark.jars\", \"postgresql-42.6.2.jar\") \\\n",
    "            .getOrCreate()\n",
    "\n",
    "# Thiết lập thông tin kết nối JDBC\n",
    "# spark.conf.set(\"spark.driver.extraClassPath\", \"postgresql-42.6.2.jar\")  # Đường dẫn tới PostgreSQL JDBC driver\n",
    "# spark.conf.set(\"spark.executor.extraClassPath\", \"postgresql-42.6.2.jar\")  # Đường dẫn tới PostgreSQL JDBC driver\n"
   ]
  },
  {
   "cell_type": "code",
   "execution_count": 83,
   "metadata": {},
   "outputs": [],
   "source": [
    "# spark.stop()"
   ]
  },
  {
   "cell_type": "code",
   "execution_count": 84,
   "metadata": {},
   "outputs": [
    {
     "name": "stdout",
     "output_type": "stream",
     "text": [
      "+--------------+-----------+------------+----------+--------------------+--------+-------+------------+-------+------------+\n",
      "|account_number|customer_id|opening_date|product_id|        product_name|currency|   rate|trans_amount|channel|booking_date|\n",
      "+--------------+-----------+------------+----------+--------------------+--------+-------+------------+-------+------------+\n",
      "|  744761900043|   58000981|  2022-02-14|      1001|Tai khoan thong t...|     VND|    1.0|      5127.0|EWALLET|  2024-01-31|\n",
      "|  555286461200|   60035164|  2023-03-23|      1001|Tai khoan thong t...|     VND|    1.0|      4509.0|     MB|  2024-01-31|\n",
      "|  539668218911|   89506712|  2023-06-29|      1001|Tai khoan thong t...|     VND|    1.0|      2628.0|     MB|  2024-01-31|\n",
      "|  482534465189|   25136560|  2023-05-24|      1001|Tai khoan thong t...|     VND|    1.0|     -9003.0|     MB|  2024-01-31|\n",
      "|  119790767773|   23819437|  2022-04-03|      1001|Tai khoan thong t...|     VND|    1.0|      7180.0|     IB|  2024-01-31|\n",
      "|  691818423482|   22193436|  2022-11-06|      1001|Tai khoan thong t...|     VND|    1.0|      3994.0|EWALLET|  2024-01-31|\n",
      "|  722018019543|   45327340|  2022-06-13|      1001|Tai khoan thong t...|     VND|    1.0|     -9740.0|     MB|  2024-01-31|\n",
      "|  646298294265|   61795072|  2024-01-13|      1001|Tai khoan thong t...|     VND|    1.0|     -7321.0|     MB|  2024-01-31|\n",
      "|  728044457443|   55877657|  2023-09-17|      1023|    Tai khoan so dep|     VND|    1.0|      4446.0|     MB|  2024-01-31|\n",
      "|  016035655440|   38322959|  2020-07-08|      1001|Tai khoan thong t...|     VND|    1.0|      2514.0|     MB|  2024-01-31|\n",
      "|  632472381170|   19657954|  2024-03-04|      1001|Tai khoan thong t...|     VND|    1.0|      -707.0|EWALLET|  2024-01-31|\n",
      "|  370463821619|   70721257|  2020-08-18|      1001|Tai khoan thong t...|     VND|    1.0|     -1335.0|EWALLET|  2024-01-31|\n",
      "|  518435934032|   80618324|  2022-10-06|      1023|    Tai khoan so dep|     VND|    1.0|     -2914.0|     MB|  2024-01-31|\n",
      "|  365359460293|   65824401|  2020-12-06|      1001|Tai khoan thong t...|     VND|    1.0|      7218.0|     MB|  2024-01-31|\n",
      "|  257405675114|   72272130|  2022-07-22|      1001|Tai khoan thong t...|     VND|    1.0|      3460.0|EWALLET|  2024-01-31|\n",
      "|  513375293172|   17309658|  2024-05-28|      1001|Tai khoan thong t...|     VND|    1.0|     -1426.0|EWALLET|  2024-01-31|\n",
      "|  756859177628|   38943461|  2024-05-31|      1023|    Tai khoan so dep|     VND|    1.0|     -3977.0|     MB|  2024-01-31|\n",
      "|  771350308703|   95196937|  2020-06-30|      1023|    Tai khoan so dep|     VND|    1.0|      9750.0|EWALLET|  2024-01-31|\n",
      "|  924499706250|   50679464|  2024-03-04|      1001|Tai khoan thong t...|     VND|    1.0|     -8688.0|     MB|  2024-01-31|\n",
      "|  716489681393|   97179765|  2023-02-11|      1023|    Tai khoan so dep|     EUR|27156.0|     -6349.0|EWALLET|  2024-01-31|\n",
      "+--------------+-----------+------------+----------+--------------------+--------+-------+------------+-------+------------+\n",
      "only showing top 20 rows\n",
      "\n"
     ]
    }
   ],
   "source": [
    "#khai báo có 2 cách\n",
    "url = 'jdbc:postgresql://localhost:5432/postgres?currentSchema=dwh'\n",
    "\n",
    "### cách 1\n",
    "properties = {\n",
    "    \"user\": \"postgres\",\n",
    "    \"password\": \"login1234\",\n",
    "    \"driver\": \"org.postgresql.Driver\"\n",
    "    # \"schema\": \"dwh\"  # Đặt schema ở đây\n",
    "}\n",
    "\n",
    "### lấy dữ liệu transaction\n",
    "acc_table = 'account'\n",
    "trans_table = 'transaction'\n",
    "currency_table = 'currency'\n",
    "product_table = 'product'\n",
    "booking_date = '2024-01-31'\n",
    "\n",
    "query = f\"\"\"\n",
    "    (\n",
    "    SELECT a.account_number , a.customer_id , a.opening_date , a.product_id , p.product_name , a.currency , c.rate , t.trans_amount , t.channel , t.booking_date \n",
    "    from {acc_table} a \n",
    "    join {trans_table} t  \n",
    "    on a.account_number = t.account_number\n",
    "    join {currency_table} c \n",
    "    on a.currency = c.currency \n",
    "    join {product_table} p \n",
    "    on a.product_id = p.product_id \n",
    "    where booking_date = '{booking_date}'\n",
    ") as subquery\n",
    "\"\"\"\n",
    "df = spark.read.jdbc(url= url, table = query, properties= properties)\n",
    "\n",
    "### cách 2\n",
    "# trans_df = spark.read.format(\"jdbc\").\\\n",
    "#     options(url=url,\n",
    "#      dbtable='transaction',\n",
    "#      user='postgres',\n",
    "#      password='login1234',\n",
    "#      driver='org.postgresql.Driver').\\\n",
    "#     load()\n",
    "\n",
    "df.show()"
   ]
  },
  {
   "cell_type": "code",
   "execution_count": 85,
   "metadata": {},
   "outputs": [
    {
     "name": "stdout",
     "output_type": "stream",
     "text": [
      "root\n",
      " |-- account_number: string (nullable = true)\n",
      " |-- customer_id: integer (nullable = true)\n",
      " |-- opening_date: date (nullable = true)\n",
      " |-- product_id: string (nullable = true)\n",
      " |-- product_name: string (nullable = true)\n",
      " |-- currency: string (nullable = true)\n",
      " |-- rate: double (nullable = true)\n",
      " |-- trans_amount: double (nullable = true)\n",
      " |-- channel: string (nullable = true)\n",
      " |-- booking_date: date (nullable = true)\n",
      "\n"
     ]
    }
   ],
   "source": [
    "df.printSchema()"
   ]
  },
  {
   "cell_type": "code",
   "execution_count": 86,
   "metadata": {},
   "outputs": [
    {
     "name": "stdout",
     "output_type": "stream",
     "text": [
      "+--------------+-----------+------------+----------+--------+\n",
      "|account_number|customer_id|opening_date|product_id|currency|\n",
      "+--------------+-----------+------------+----------+--------+\n",
      "|  744761900043|   58000981|  2022-02-14|      1001|     VND|\n",
      "|  555286461200|   60035164|  2023-03-23|      1001|     VND|\n",
      "|  539668218911|   89506712|  2023-06-29|      1001|     VND|\n",
      "|  482534465189|   25136560|  2023-05-24|      1001|     VND|\n",
      "|  119790767773|   23819437|  2022-04-03|      1001|     VND|\n",
      "|  691818423482|   22193436|  2022-11-06|      1001|     VND|\n",
      "|  722018019543|   45327340|  2022-06-13|      1001|     VND|\n",
      "|  646298294265|   61795072|  2024-01-13|      1001|     VND|\n",
      "|  728044457443|   55877657|  2023-09-17|      1023|     VND|\n",
      "|  016035655440|   38322959|  2020-07-08|      1001|     VND|\n",
      "|  632472381170|   19657954|  2024-03-04|      1001|     VND|\n",
      "|  370463821619|   70721257|  2020-08-18|      1001|     VND|\n",
      "|  518435934032|   80618324|  2022-10-06|      1023|     VND|\n",
      "|  365359460293|   65824401|  2020-12-06|      1001|     VND|\n",
      "|  257405675114|   72272130|  2022-07-22|      1001|     VND|\n",
      "|  513375293172|   17309658|  2024-05-28|      1001|     VND|\n",
      "|  756859177628|   38943461|  2024-05-31|      1023|     VND|\n",
      "|  771350308703|   95196937|  2020-06-30|      1023|     VND|\n",
      "|  924499706250|   50679464|  2024-03-04|      1001|     VND|\n",
      "|  716489681393|   97179765|  2023-02-11|      1023|     EUR|\n",
      "+--------------+-----------+------------+----------+--------+\n",
      "only showing top 20 rows\n",
      "\n"
     ]
    }
   ],
   "source": [
    "account = f\"\"\"\n",
    "(SELECT * from {acc_table}) as subquery\n",
    "\"\"\"\n",
    "acc_df = spark.read.jdbc(url= url, table = account, properties= properties)\n",
    "acc_df.show()\n"
   ]
  },
  {
   "cell_type": "code",
   "execution_count": 87,
   "metadata": {},
   "outputs": [
    {
     "name": "stdout",
     "output_type": "stream",
     "text": [
      "+-------------+-------+\n",
      "|currency_code|   rate|\n",
      "+-------------+-------+\n",
      "|          EUR|27156.0|\n",
      "|          USD|24595.0|\n",
      "|          VND|    1.0|\n",
      "+-------------+-------+\n",
      "\n"
     ]
    }
   ],
   "source": [
    "currency = f\"\"\"\n",
    "(SELECT * from {currency_table}) as subquery\n",
    "\"\"\"\n",
    "currency_df = spark.read.jdbc(url= url, table = currency, properties= properties)\n",
    "currency_df = currency_df.withColumnRenamed('currency', 'currency_code')\n",
    "currency_df.show()\n"
   ]
  },
  {
   "cell_type": "code",
   "execution_count": 88,
   "metadata": {},
   "outputs": [
    {
     "name": "stdout",
     "output_type": "stream",
     "text": [
      "+------------+--------------------+\n",
      "|product_code|        product_name|\n",
      "+------------+--------------------+\n",
      "|        1001|Tai khoan thong t...|\n",
      "|        1023|    Tai khoan so dep|\n",
      "+------------+--------------------+\n",
      "\n"
     ]
    }
   ],
   "source": [
    "product = f\"\"\"\n",
    "(SELECT * from {product_table}) as subquery\n",
    "\"\"\"\n",
    "product_df = spark.read.jdbc(url= url, table = product, properties= properties)\n",
    "product_df = product_df.withColumnRenamed('product_id', 'product_code')\n",
    "product_df.show()\n"
   ]
  },
  {
   "cell_type": "code",
   "execution_count": 89,
   "metadata": {},
   "outputs": [
    {
     "name": "stdout",
     "output_type": "stream",
     "text": [
      "+------------+------------+-------+------------+\n",
      "|  account_id|trans_amount|channel|booking_date|\n",
      "+------------+------------+-------+------------+\n",
      "|744761900043|      5127.0|EWALLET|  2024-01-31|\n",
      "|555286461200|      4509.0|     MB|  2024-01-31|\n",
      "|539668218911|      2628.0|     MB|  2024-01-31|\n",
      "|482534465189|     -9003.0|     MB|  2024-01-31|\n",
      "|119790767773|      7180.0|     IB|  2024-01-31|\n",
      "|691818423482|      3994.0|EWALLET|  2024-01-31|\n",
      "|722018019543|     -9740.0|     MB|  2024-01-31|\n",
      "|646298294265|     -7321.0|     MB|  2024-01-31|\n",
      "|728044457443|      4446.0|     MB|  2024-01-31|\n",
      "|016035655440|      2514.0|     MB|  2024-01-31|\n",
      "|632472381170|      -707.0|EWALLET|  2024-01-31|\n",
      "|370463821619|     -1335.0|EWALLET|  2024-01-31|\n",
      "|518435934032|     -2914.0|     MB|  2024-01-31|\n",
      "|365359460293|      7218.0|     MB|  2024-01-31|\n",
      "|257405675114|      3460.0|EWALLET|  2024-01-31|\n",
      "|513375293172|     -1426.0|EWALLET|  2024-01-31|\n",
      "|756859177628|     -3977.0|     MB|  2024-01-31|\n",
      "|771350308703|      9750.0|EWALLET|  2024-01-31|\n",
      "|924499706250|     -8688.0|     MB|  2024-01-31|\n",
      "|716489681393|     -6349.0|EWALLET|  2024-01-31|\n",
      "+------------+------------+-------+------------+\n",
      "only showing top 20 rows\n",
      "\n"
     ]
    }
   ],
   "source": [
    "trans_query = f\"\"\"\n",
    "    (SELECT * from {trans_table} where booking_date = '{booking_date}') as subquery\n",
    "\"\"\"\n",
    "trans_df = spark.read.jdbc(url= url, table = trans_query, properties= properties)\n",
    "trans_df = trans_df.withColumnRenamed('account_number', 'account_id')\n",
    "trans_df.show()\n"
   ]
  },
  {
   "cell_type": "code",
   "execution_count": 90,
   "metadata": {},
   "outputs": [
    {
     "name": "stdout",
     "output_type": "stream",
     "text": [
      "+-------------+-----------------+-----------+------+----------+-------+-----------+\n",
      "|customer_code|        full_name|target_code|gender|       dob|segment|target_name|\n",
      "+-------------+-----------------+-----------+------+----------+-------+-----------+\n",
      "|     63205802|     Daniel Lewis|       4000|FEMALE|1981-11-30|   KHUT|       KHCN|\n",
      "|     83990555|      James Lewis|       4000|  MALE|1996-04-04|   KHUT|       KHCN|\n",
      "|     62980626|       John Davis|       4000|FEMALE|1995-07-02|   KHCL|       KHCN|\n",
      "|     59803307|     Emily Garcia|       4000|  MALE|1988-12-07|   KHUT|       KHCN|\n",
      "|     67706131|      James White|       4000|FEMALE|1985-07-27|   KHUT|       KHCN|\n",
      "|     56993630|Abigail Hernandez|       2000|  MALE|1984-09-17|   KHCL|       KHDN|\n",
      "|     71320427|     Evelyn Davis|       4000|  MALE|1991-10-24|   KHTT|       KHCN|\n",
      "|     98154506|    James Jackson|       4000|  MALE|2001-07-23|   KHUT|       KHCN|\n",
      "|     19035426|     Ava Martinez|       4000|FEMALE|2005-10-21|   KHUT|       KHCN|\n",
      "|     23042095|    Amelia Taylor|       4000|  MALE|1973-11-20|   KHTT|       KHCN|\n",
      "|     83886249|      Emily Lopez|       4000|FEMALE|1981-01-02|   KHUT|       KHCN|\n",
      "|     31198674|      John Miller|       1000|FEMALE|1975-05-20|   KHUT|      KHDNL|\n",
      "|     40747814|    Mia Rodriguez|       4000|  MALE|1976-02-20|   KHUT|       KHCN|\n",
      "|     14247149|    Michael Smith|       4000|FEMALE|1996-02-14|   KHUT|       KHCN|\n",
      "|     85828188|  Joseph Martinez|       4000|  MALE|2003-12-26|   KHUT|       KHCN|\n",
      "|     10496592|  Emily Hernandez|       4000|FEMALE|1994-05-16|   KHUT|       KHCN|\n",
      "|     85673549|  Alexander White|       2000|  MALE|1972-02-08|   KHUT|       KHDN|\n",
      "|     65707868|       Emma Jones|       4000|FEMALE|1992-11-05|   KHCL|       KHCN|\n",
      "|     21455733|   Matthew Garcia|       2000|  MALE|1988-02-13|   KHUT|       KHDN|\n",
      "|     39977597|   David Gonzalez|       4000|FEMALE|1993-12-26|   KHCL|       KHCN|\n",
      "+-------------+-----------------+-----------+------+----------+-------+-----------+\n",
      "only showing top 20 rows\n",
      "\n"
     ]
    }
   ],
   "source": [
    "# customer_db = 'customer'\n",
    "# target_db = 'target'\n",
    "   # left join target t\n",
    "    # on c.target = t.target_code\n",
    "\n",
    "customer_query = \"\"\"\n",
    "    (SELECT c.*, target_name from customer c left join target t on c.target_code = t.target_code\n",
    "    )\n",
    "\"\"\"\n",
    "customer_df = spark.read.jdbc(url= url, table = customer_query, properties= properties)\n",
    "customer_df = customer_df.withColumnRenamed('customer_id', 'customer_code')\n",
    "customer_df.show()\n"
   ]
  },
  {
   "cell_type": "code",
   "execution_count": 91,
   "metadata": {},
   "outputs": [
    {
     "name": "stdout",
     "output_type": "stream",
     "text": [
      "+--------------+-----------+----------------+-----------+-----------+------+----------+-------+------------+----------+--------------------+--------+-------+------------+-------+------------+\n",
      "|account_number|customer_id|       full_name|target_code|target_name|gender|       dob|segment|opening_date|product_id|        product_name|currency|   rate|trans_amount|channel|booking_date|\n",
      "+--------------+-----------+----------------+-----------+-----------+------+----------+-------+------------+----------+--------------------+--------+-------+------------+-------+------------+\n",
      "|  052685520990|   59082550|   John Gonzalez|       4000|       KHCN|  MALE|2001-06-21|   KHCL|  2024-01-30|      1001|Tai khoan thong t...|     USD|24595.0|     -5955.0|     MB|  2024-01-31|\n",
      "|  062636477133|   52240487|    Joseph Smith|       4000|       KHCN|FEMALE|1999-09-15|   KHTT|  2023-03-11|      1001|Tai khoan thong t...|     VND|    1.0|      3760.0|     IB|  2024-01-31|\n",
      "|  068832082487|   77967137|Isabella Jackson|       4000|       KHCN|  MALE|1984-03-19|   KHCL|  2023-10-06|      1001|Tai khoan thong t...|     USD|24595.0|      4245.0|     IB|  2024-01-31|\n",
      "|  085009621884|   54488903|      Jane Moore|       4000|       KHCN|FEMALE|1981-09-22|   KHUT|  2023-02-24|      1001|Tai khoan thong t...|     VND|    1.0|      5457.0|     MB|  2024-01-31|\n",
      "|  107515336279|   54488903|      Jane Moore|       4000|       KHCN|FEMALE|1981-09-22|   KHUT|  2020-06-23|      1001|Tai khoan thong t...|     VND|    1.0|      2659.0|     MB|  2024-01-31|\n",
      "|  132971328581|   52240487|    Joseph Smith|       4000|       KHCN|FEMALE|1999-09-15|   KHTT|  2023-01-05|      1001|Tai khoan thong t...|     VND|    1.0|     -7942.0|     MB|  2024-01-31|\n",
      "|  173660741674|   77967137|Isabella Jackson|       4000|       KHCN|  MALE|1984-03-19|   KHCL|  2021-10-21|      1023|    Tai khoan so dep|     VND|    1.0|     -4762.0|     MB|  2024-01-31|\n",
      "|  209391405108|   43269047| Joshua Thompson|       4000|       KHCN|FEMALE|1975-10-08|   KHUT|  2020-01-10|      1023|    Tai khoan so dep|     VND|    1.0|      4965.0|EWALLET|  2024-01-31|\n",
      "|  265912049547|   49944039| Olivia Martinez|       4000|       KHCN|FEMALE|1972-08-31|   KHUT|  2020-03-04|      1023|    Tai khoan so dep|     VND|    1.0|     -4611.0|     IB|  2024-01-31|\n",
      "|  269059068114|   54488903|      Jane Moore|       4000|       KHCN|FEMALE|1981-09-22|   KHUT|  2020-02-25|      1001|Tai khoan thong t...|     USD|24595.0|      7623.0|EWALLET|  2024-01-31|\n",
      "|  301483024266|   76692126|  James Williams|       4000|       KHCN|  MALE|1983-07-15|   KHCL|  2021-02-17|      1001|Tai khoan thong t...|     VND|    1.0|     -9962.0|     MB|  2024-01-31|\n",
      "|  431511459607|   11242811|  Matthew Miller|       4000|       KHCN|  MALE|1986-11-02|   KHTT|  2023-05-03|      1001|Tai khoan thong t...|     VND|    1.0|     -6558.0|     MB|  2024-01-31|\n",
      "|  449466827778|   54488903|      Jane Moore|       4000|       KHCN|FEMALE|1981-09-22|   KHUT|  2024-03-17|      1001|Tai khoan thong t...|     VND|    1.0|     -1512.0|     IB|  2024-01-31|\n",
      "|  529592584359|   39093139|      Andrew Lee|       4000|       KHCN|  MALE|1972-07-07|   KHUT|  2024-01-09|      1001|Tai khoan thong t...|     VND|    1.0|      9400.0|     MB|  2024-01-31|\n",
      "|  615857417951|   76692126|  James Williams|       4000|       KHCN|  MALE|1983-07-15|   KHCL|  2022-07-20|      1023|    Tai khoan so dep|     USD|24595.0|     -7813.0|     MB|  2024-01-31|\n",
      "|  693948776989|   10632040|   Amelia Walker|       2000|       KHDN|  MALE|1985-08-04|   KHCL|  2021-03-03|      1001|Tai khoan thong t...|     VND|    1.0|      9042.0|     MB|  2024-01-31|\n",
      "|  729604876408|   52240487|    Joseph Smith|       4000|       KHCN|FEMALE|1999-09-15|   KHTT|  2023-02-09|      1001|Tai khoan thong t...|     VND|    1.0|      8568.0|     MB|  2024-01-31|\n",
      "|  748604265450|   49944039| Olivia Martinez|       4000|       KHCN|FEMALE|1972-08-31|   KHUT|  2022-11-24|      1023|    Tai khoan so dep|     USD|24595.0|     -7645.0|     MB|  2024-01-31|\n",
      "|  765454740973|   59082550|   John Gonzalez|       4000|       KHCN|  MALE|2001-06-21|   KHCL|  2020-10-10|      1001|Tai khoan thong t...|     VND|    1.0|      5784.0|EWALLET|  2024-01-31|\n",
      "|  789998472808|   52240487|    Joseph Smith|       4000|       KHCN|FEMALE|1999-09-15|   KHTT|  2021-03-08|      1001|Tai khoan thong t...|     USD|24595.0|     -1837.0|     IB|  2024-01-31|\n",
      "+--------------+-----------+----------------+-----------+-----------+------+----------+-------+------------+----------+--------------------+--------+-------+------------+-------+------------+\n",
      "only showing top 20 rows\n",
      "\n"
     ]
    }
   ],
   "source": [
    "summary_df = acc_df.join(customer_df, acc_df['customer_id'] == customer_df['customer_code'], how='inner')\\\n",
    "                    .join(trans_df, acc_df['account_number'] == trans_df['account_id'], how ='left')\\\n",
    "                    .join(product_df, acc_df['product_id'] == product_df['product_code'], how ='left')\\\n",
    "                    .join(currency_df, acc_df['currency'] == currency_df['currency_code'], how = 'left')\n",
    "                # .selectExpr(\"account_number\")#, 'acc_df.customer_id', 'acc_df.opening_date', 'acc_df.product_id', 'acc_df.currency',\n",
    "                            # 'trans_df.trans_amount', 'trans_df.channel', 'trans_df.booking_date')\n",
    "summary_df = summary_df.selectExpr('account_number', 'customer_id', 'full_name', 'target_code', 'target_name', 'gender', 'dob', 'segment',\n",
    "                                   'opening_date', 'product_id','product_name', 'currency', 'rate',\n",
    "                            'trans_amount', 'channel', 'booking_date')\n",
    "summary_df.show()"
   ]
  },
  {
   "cell_type": "code",
   "execution_count": 93,
   "metadata": {},
   "outputs": [
    {
     "ename": "Py4JJavaError",
     "evalue": "An error occurred while calling o822.jdbc.\n: org.postgresql.util.PSQLException: ERROR: syntax error at or near \"select\"\n  Position: 15\r\n\tat org.postgresql.core.v3.QueryExecutorImpl.receiveErrorResponse(QueryExecutorImpl.java:2713)\r\n\tat org.postgresql.core.v3.QueryExecutorImpl.processResults(QueryExecutorImpl.java:2401)\r\n\tat org.postgresql.core.v3.QueryExecutorImpl.execute(QueryExecutorImpl.java:368)\r\n\tat org.postgresql.jdbc.PgStatement.executeInternal(PgStatement.java:498)\r\n\tat org.postgresql.jdbc.PgStatement.execute(PgStatement.java:415)\r\n\tat org.postgresql.jdbc.PgPreparedStatement.executeWithFlags(PgPreparedStatement.java:190)\r\n\tat org.postgresql.jdbc.PgPreparedStatement.executeQuery(PgPreparedStatement.java:134)\r\n\tat org.apache.spark.sql.execution.datasources.jdbc.JDBCRDD$.getQueryOutputSchema(JDBCRDD.scala:68)\r\n\tat org.apache.spark.sql.execution.datasources.jdbc.JDBCRDD$.resolveTable(JDBCRDD.scala:58)\r\n\tat org.apache.spark.sql.execution.datasources.jdbc.JDBCRelation$.getSchema(JDBCRelation.scala:241)\r\n\tat org.apache.spark.sql.execution.datasources.jdbc.JdbcRelationProvider.createRelation(JdbcRelationProvider.scala:37)\r\n\tat org.apache.spark.sql.execution.datasources.DataSource.resolveRelation(DataSource.scala:346)\r\n\tat org.apache.spark.sql.DataFrameReader.loadV1Source(DataFrameReader.scala:229)\r\n\tat org.apache.spark.sql.DataFrameReader.$anonfun$load$2(DataFrameReader.scala:211)\r\n\tat scala.Option.getOrElse(Option.scala:189)\r\n\tat org.apache.spark.sql.DataFrameReader.load(DataFrameReader.scala:211)\r\n\tat org.apache.spark.sql.DataFrameReader.load(DataFrameReader.scala:172)\r\n\tat org.apache.spark.sql.DataFrameReader.jdbc(DataFrameReader.scala:249)\r\n\tat java.base/jdk.internal.reflect.DirectMethodHandleAccessor.invoke(DirectMethodHandleAccessor.java:103)\r\n\tat java.base/java.lang.reflect.Method.invoke(Method.java:580)\r\n\tat py4j.reflection.MethodInvoker.invoke(MethodInvoker.java:244)\r\n\tat py4j.reflection.ReflectionEngine.invoke(ReflectionEngine.java:374)\r\n\tat py4j.Gateway.invoke(Gateway.java:282)\r\n\tat py4j.commands.AbstractCommand.invokeMethod(AbstractCommand.java:132)\r\n\tat py4j.commands.CallCommand.execute(CallCommand.java:79)\r\n\tat py4j.ClientServerConnection.waitForCommands(ClientServerConnection.java:182)\r\n\tat py4j.ClientServerConnection.run(ClientServerConnection.java:106)\r\n\tat java.base/java.lang.Thread.run(Thread.java:1570)\r\n",
     "output_type": "error",
     "traceback": [
      "\u001b[1;31m---------------------------------------------------------------------------\u001b[0m",
      "\u001b[1;31mPy4JJavaError\u001b[0m                             Traceback (most recent call last)",
      "Cell \u001b[1;32mIn[93], line 3\u001b[0m\n\u001b[0;32m      1\u001b[0m test_query \u001b[38;5;241m=\u001b[39m \u001b[38;5;124m'\u001b[39m\u001b[38;5;124mselect * from rptb_transaction\u001b[39m\u001b[38;5;124m'\u001b[39m\n\u001b[1;32m----> 3\u001b[0m test_Df \u001b[38;5;241m=\u001b[39m \u001b[43mspark\u001b[49m\u001b[38;5;241;43m.\u001b[39;49m\u001b[43mread\u001b[49m\u001b[38;5;241;43m.\u001b[39;49m\u001b[43mjdbc\u001b[49m\u001b[43m(\u001b[49m\u001b[43murl\u001b[49m\u001b[38;5;241;43m=\u001b[39;49m\u001b[43m \u001b[49m\u001b[43murl\u001b[49m\u001b[43m,\u001b[49m\u001b[43m \u001b[49m\u001b[43mtable\u001b[49m\u001b[43m \u001b[49m\u001b[38;5;241;43m=\u001b[39;49m\u001b[43m \u001b[49m\u001b[43mtest_query\u001b[49m\u001b[43m,\u001b[49m\u001b[43m \u001b[49m\u001b[43mproperties\u001b[49m\u001b[38;5;241;43m=\u001b[39;49m\u001b[43m \u001b[49m\u001b[43mproperties\u001b[49m\u001b[43m)\u001b[49m\n\u001b[0;32m      4\u001b[0m \u001b[38;5;66;03m# customer_df = customer_df.withColumnRenamed('customer_id', 'customer_code')\u001b[39;00m\n\u001b[0;32m      5\u001b[0m test_Df\u001b[38;5;241m.\u001b[39mshow()\n",
      "File \u001b[1;32mC:\\spark\\spark-3.5.1-bin-hadoop3\\python\\pyspark\\sql\\readwriter.py:946\u001b[0m, in \u001b[0;36mDataFrameReader.jdbc\u001b[1;34m(self, url, table, column, lowerBound, upperBound, numPartitions, predicates, properties)\u001b[0m\n\u001b[0;32m    944\u001b[0m     jpredicates \u001b[38;5;241m=\u001b[39m utils\u001b[38;5;241m.\u001b[39mtoJArray(gateway, gateway\u001b[38;5;241m.\u001b[39mjvm\u001b[38;5;241m.\u001b[39mjava\u001b[38;5;241m.\u001b[39mlang\u001b[38;5;241m.\u001b[39mString, predicates)\n\u001b[0;32m    945\u001b[0m     \u001b[38;5;28;01mreturn\u001b[39;00m \u001b[38;5;28mself\u001b[39m\u001b[38;5;241m.\u001b[39m_df(\u001b[38;5;28mself\u001b[39m\u001b[38;5;241m.\u001b[39m_jreader\u001b[38;5;241m.\u001b[39mjdbc(url, table, jpredicates, jprop))\n\u001b[1;32m--> 946\u001b[0m \u001b[38;5;28;01mreturn\u001b[39;00m \u001b[38;5;28mself\u001b[39m\u001b[38;5;241m.\u001b[39m_df(\u001b[38;5;28;43mself\u001b[39;49m\u001b[38;5;241;43m.\u001b[39;49m\u001b[43m_jreader\u001b[49m\u001b[38;5;241;43m.\u001b[39;49m\u001b[43mjdbc\u001b[49m\u001b[43m(\u001b[49m\u001b[43murl\u001b[49m\u001b[43m,\u001b[49m\u001b[43m \u001b[49m\u001b[43mtable\u001b[49m\u001b[43m,\u001b[49m\u001b[43m \u001b[49m\u001b[43mjprop\u001b[49m\u001b[43m)\u001b[49m)\n",
      "File \u001b[1;32mc:\\Users\\ADMIN\\AppData\\Local\\Programs\\Python\\Python39\\lib\\site-packages\\py4j\\java_gateway.py:1322\u001b[0m, in \u001b[0;36mJavaMember.__call__\u001b[1;34m(self, *args)\u001b[0m\n\u001b[0;32m   1316\u001b[0m command \u001b[38;5;241m=\u001b[39m proto\u001b[38;5;241m.\u001b[39mCALL_COMMAND_NAME \u001b[38;5;241m+\u001b[39m\\\n\u001b[0;32m   1317\u001b[0m     \u001b[38;5;28mself\u001b[39m\u001b[38;5;241m.\u001b[39mcommand_header \u001b[38;5;241m+\u001b[39m\\\n\u001b[0;32m   1318\u001b[0m     args_command \u001b[38;5;241m+\u001b[39m\\\n\u001b[0;32m   1319\u001b[0m     proto\u001b[38;5;241m.\u001b[39mEND_COMMAND_PART\n\u001b[0;32m   1321\u001b[0m answer \u001b[38;5;241m=\u001b[39m \u001b[38;5;28mself\u001b[39m\u001b[38;5;241m.\u001b[39mgateway_client\u001b[38;5;241m.\u001b[39msend_command(command)\n\u001b[1;32m-> 1322\u001b[0m return_value \u001b[38;5;241m=\u001b[39m \u001b[43mget_return_value\u001b[49m\u001b[43m(\u001b[49m\n\u001b[0;32m   1323\u001b[0m \u001b[43m    \u001b[49m\u001b[43manswer\u001b[49m\u001b[43m,\u001b[49m\u001b[43m \u001b[49m\u001b[38;5;28;43mself\u001b[39;49m\u001b[38;5;241;43m.\u001b[39;49m\u001b[43mgateway_client\u001b[49m\u001b[43m,\u001b[49m\u001b[43m \u001b[49m\u001b[38;5;28;43mself\u001b[39;49m\u001b[38;5;241;43m.\u001b[39;49m\u001b[43mtarget_id\u001b[49m\u001b[43m,\u001b[49m\u001b[43m \u001b[49m\u001b[38;5;28;43mself\u001b[39;49m\u001b[38;5;241;43m.\u001b[39;49m\u001b[43mname\u001b[49m\u001b[43m)\u001b[49m\n\u001b[0;32m   1325\u001b[0m \u001b[38;5;28;01mfor\u001b[39;00m temp_arg \u001b[38;5;129;01min\u001b[39;00m temp_args:\n\u001b[0;32m   1326\u001b[0m     \u001b[38;5;28;01mif\u001b[39;00m \u001b[38;5;28mhasattr\u001b[39m(temp_arg, \u001b[38;5;124m\"\u001b[39m\u001b[38;5;124m_detach\u001b[39m\u001b[38;5;124m\"\u001b[39m):\n",
      "File \u001b[1;32mC:\\spark\\spark-3.5.1-bin-hadoop3\\python\\pyspark\\errors\\exceptions\\captured.py:179\u001b[0m, in \u001b[0;36mcapture_sql_exception.<locals>.deco\u001b[1;34m(*a, **kw)\u001b[0m\n\u001b[0;32m    177\u001b[0m \u001b[38;5;28;01mdef\u001b[39;00m \u001b[38;5;21mdeco\u001b[39m(\u001b[38;5;241m*\u001b[39ma: Any, \u001b[38;5;241m*\u001b[39m\u001b[38;5;241m*\u001b[39mkw: Any) \u001b[38;5;241m-\u001b[39m\u001b[38;5;241m>\u001b[39m Any:\n\u001b[0;32m    178\u001b[0m     \u001b[38;5;28;01mtry\u001b[39;00m:\n\u001b[1;32m--> 179\u001b[0m         \u001b[38;5;28;01mreturn\u001b[39;00m f(\u001b[38;5;241m*\u001b[39ma, \u001b[38;5;241m*\u001b[39m\u001b[38;5;241m*\u001b[39mkw)\n\u001b[0;32m    180\u001b[0m     \u001b[38;5;28;01mexcept\u001b[39;00m Py4JJavaError \u001b[38;5;28;01mas\u001b[39;00m e:\n\u001b[0;32m    181\u001b[0m         converted \u001b[38;5;241m=\u001b[39m convert_exception(e\u001b[38;5;241m.\u001b[39mjava_exception)\n",
      "File \u001b[1;32mc:\\Users\\ADMIN\\AppData\\Local\\Programs\\Python\\Python39\\lib\\site-packages\\py4j\\protocol.py:326\u001b[0m, in \u001b[0;36mget_return_value\u001b[1;34m(answer, gateway_client, target_id, name)\u001b[0m\n\u001b[0;32m    324\u001b[0m value \u001b[38;5;241m=\u001b[39m OUTPUT_CONVERTER[\u001b[38;5;28mtype\u001b[39m](answer[\u001b[38;5;241m2\u001b[39m:], gateway_client)\n\u001b[0;32m    325\u001b[0m \u001b[38;5;28;01mif\u001b[39;00m answer[\u001b[38;5;241m1\u001b[39m] \u001b[38;5;241m==\u001b[39m REFERENCE_TYPE:\n\u001b[1;32m--> 326\u001b[0m     \u001b[38;5;28;01mraise\u001b[39;00m Py4JJavaError(\n\u001b[0;32m    327\u001b[0m         \u001b[38;5;124m\"\u001b[39m\u001b[38;5;124mAn error occurred while calling \u001b[39m\u001b[38;5;132;01m{0}\u001b[39;00m\u001b[38;5;132;01m{1}\u001b[39;00m\u001b[38;5;132;01m{2}\u001b[39;00m\u001b[38;5;124m.\u001b[39m\u001b[38;5;130;01m\\n\u001b[39;00m\u001b[38;5;124m\"\u001b[39m\u001b[38;5;241m.\u001b[39m\n\u001b[0;32m    328\u001b[0m         \u001b[38;5;28mformat\u001b[39m(target_id, \u001b[38;5;124m\"\u001b[39m\u001b[38;5;124m.\u001b[39m\u001b[38;5;124m\"\u001b[39m, name), value)\n\u001b[0;32m    329\u001b[0m \u001b[38;5;28;01melse\u001b[39;00m:\n\u001b[0;32m    330\u001b[0m     \u001b[38;5;28;01mraise\u001b[39;00m Py4JError(\n\u001b[0;32m    331\u001b[0m         \u001b[38;5;124m\"\u001b[39m\u001b[38;5;124mAn error occurred while calling \u001b[39m\u001b[38;5;132;01m{0}\u001b[39;00m\u001b[38;5;132;01m{1}\u001b[39;00m\u001b[38;5;132;01m{2}\u001b[39;00m\u001b[38;5;124m. Trace:\u001b[39m\u001b[38;5;130;01m\\n\u001b[39;00m\u001b[38;5;132;01m{3}\u001b[39;00m\u001b[38;5;130;01m\\n\u001b[39;00m\u001b[38;5;124m\"\u001b[39m\u001b[38;5;241m.\u001b[39m\n\u001b[0;32m    332\u001b[0m         \u001b[38;5;28mformat\u001b[39m(target_id, \u001b[38;5;124m\"\u001b[39m\u001b[38;5;124m.\u001b[39m\u001b[38;5;124m\"\u001b[39m, name, value))\n",
      "\u001b[1;31mPy4JJavaError\u001b[0m: An error occurred while calling o822.jdbc.\n: org.postgresql.util.PSQLException: ERROR: syntax error at or near \"select\"\n  Position: 15\r\n\tat org.postgresql.core.v3.QueryExecutorImpl.receiveErrorResponse(QueryExecutorImpl.java:2713)\r\n\tat org.postgresql.core.v3.QueryExecutorImpl.processResults(QueryExecutorImpl.java:2401)\r\n\tat org.postgresql.core.v3.QueryExecutorImpl.execute(QueryExecutorImpl.java:368)\r\n\tat org.postgresql.jdbc.PgStatement.executeInternal(PgStatement.java:498)\r\n\tat org.postgresql.jdbc.PgStatement.execute(PgStatement.java:415)\r\n\tat org.postgresql.jdbc.PgPreparedStatement.executeWithFlags(PgPreparedStatement.java:190)\r\n\tat org.postgresql.jdbc.PgPreparedStatement.executeQuery(PgPreparedStatement.java:134)\r\n\tat org.apache.spark.sql.execution.datasources.jdbc.JDBCRDD$.getQueryOutputSchema(JDBCRDD.scala:68)\r\n\tat org.apache.spark.sql.execution.datasources.jdbc.JDBCRDD$.resolveTable(JDBCRDD.scala:58)\r\n\tat org.apache.spark.sql.execution.datasources.jdbc.JDBCRelation$.getSchema(JDBCRelation.scala:241)\r\n\tat org.apache.spark.sql.execution.datasources.jdbc.JdbcRelationProvider.createRelation(JdbcRelationProvider.scala:37)\r\n\tat org.apache.spark.sql.execution.datasources.DataSource.resolveRelation(DataSource.scala:346)\r\n\tat org.apache.spark.sql.DataFrameReader.loadV1Source(DataFrameReader.scala:229)\r\n\tat org.apache.spark.sql.DataFrameReader.$anonfun$load$2(DataFrameReader.scala:211)\r\n\tat scala.Option.getOrElse(Option.scala:189)\r\n\tat org.apache.spark.sql.DataFrameReader.load(DataFrameReader.scala:211)\r\n\tat org.apache.spark.sql.DataFrameReader.load(DataFrameReader.scala:172)\r\n\tat org.apache.spark.sql.DataFrameReader.jdbc(DataFrameReader.scala:249)\r\n\tat java.base/jdk.internal.reflect.DirectMethodHandleAccessor.invoke(DirectMethodHandleAccessor.java:103)\r\n\tat java.base/java.lang.reflect.Method.invoke(Method.java:580)\r\n\tat py4j.reflection.MethodInvoker.invoke(MethodInvoker.java:244)\r\n\tat py4j.reflection.ReflectionEngine.invoke(ReflectionEngine.java:374)\r\n\tat py4j.Gateway.invoke(Gateway.java:282)\r\n\tat py4j.commands.AbstractCommand.invokeMethod(AbstractCommand.java:132)\r\n\tat py4j.commands.CallCommand.execute(CallCommand.java:79)\r\n\tat py4j.ClientServerConnection.waitForCommands(ClientServerConnection.java:182)\r\n\tat py4j.ClientServerConnection.run(ClientServerConnection.java:106)\r\n\tat java.base/java.lang.Thread.run(Thread.java:1570)\r\n"
     ]
    }
   ],
   "source": [
    "test_query = 'select * from rptb_transaction'\n",
    "\n",
    "test_Df = spark.read.jdbc(url= url, table = test_query, properties= properties)\n",
    "# customer_df = customer_df.withColumnRenamed('customer_id', 'customer_code')\n",
    "test_Df.show()\n",
    "\n",
    "\n",
    "# if summary_df is not None:\n",
    "#     summary_df.createOrReplaceTempView(\"temp_transaction\")\n",
    "#     spark.sql(\"INSERT INTO rptb_transaction SELECT * FROM temp_transaction\")\n",
    "# else:\n",
    "#     print(\"Error: summary_df is None or empty.\")"
   ]
  }
 ],
 "metadata": {
  "kernelspec": {
   "display_name": "Python 3",
   "language": "python",
   "name": "python3"
  },
  "language_info": {
   "codemirror_mode": {
    "name": "ipython",
    "version": 3
   },
   "file_extension": ".py",
   "mimetype": "text/x-python",
   "name": "python",
   "nbconvert_exporter": "python",
   "pygments_lexer": "ipython3",
   "version": "3.9.13"
  }
 },
 "nbformat": 4,
 "nbformat_minor": 2
}
