{
 "cells": [
  {
   "cell_type": "code",
   "execution_count": 43,
   "metadata": {},
   "outputs": [],
   "source": [
    "import pandas as pd\n",
    "import numpy as np\n",
    "import random\n",
    "from datetime import datetime, timedelta\n",
    "\n"
   ]
  },
  {
   "cell_type": "code",
   "execution_count": 44,
   "metadata": {},
   "outputs": [],
   "source": [
    "# Số lượng bản ghi\n",
    "num_records = 5000\n",
    "\n",
    "# Tạo customer_id\n",
    "def generate_unique_customer_ids(num_ids):\n",
    "    all_customer_ids = np.arange(10000000, 100000000)\n",
    "    np.random.shuffle(all_customer_ids)\n",
    "    return all_customer_ids[:num_ids]\n",
    "\n",
    "# Sinh ra 50 customer_id không trùng lặp\n",
    "customer_ids = generate_unique_customer_ids(num_records)\n",
    "\n"
   ]
  },
  {
   "cell_type": "code",
   "execution_count": 45,
   "metadata": {},
   "outputs": [],
   "source": [
    "# Tạo full_name ngẫu nhiên\n",
    "def generate_random_name():\n",
    "    first_names = ['John', 'Jane', 'Robert', 'Emily', 'Michael', 'Emma', 'William', 'Olivia', 'James', 'Ava',\n",
    "               'Sophia', 'Alexander', 'Isabella', 'Daniel', 'Mia', 'David', 'Charlotte', 'Joseph', 'Abigail',\n",
    "               'Andrew', 'Harper', 'Joshua', 'Evelyn', 'Matthew', 'Amelia', 'Ryan', 'Elizabeth', 'Ethan', 'Sofia']\n",
    "\n",
    "    last_names = ['Smith', 'Johnson', 'Williams', 'Brown', 'Jones', 'Garcia', 'Miller', 'Davis', 'Martinez', 'Lee',\n",
    "              'Rodriguez', 'Wilson', 'Martinez', 'Anderson', 'Taylor', 'Thomas', 'Hernandez', 'Moore', 'Martin',\n",
    "              'Jackson', 'Thompson', 'White', 'Lopez', 'Gonzalez', 'Harris', 'Clark', 'Lewis', 'Robinson', 'Walker']\n",
    "\n",
    "    return f\"{random.choice(first_names)} {random.choice(last_names)}\"\n",
    "\n",
    "full_names = [generate_random_name() for _ in range(num_records)]\n",
    "\n"
   ]
  },
  {
   "cell_type": "code",
   "execution_count": 46,
   "metadata": {},
   "outputs": [],
   "source": [
    "# Tạo target_code theo tỷ lệ 1-2-7\n",
    "target_codes = np.random.choice([1000, 2000, 4000], num_records, p=[0.1, 0.2, 0.7])\n",
    "\n"
   ]
  },
  {
   "cell_type": "code",
   "execution_count": 47,
   "metadata": {},
   "outputs": [],
   "source": [
    "# Tạo gender theo tỷ lệ 4-6\n",
    "genders = np.random.choice(['MALE', 'FEMALE'], num_records, p=[0.4, 0.6])\n",
    "\n",
    "\n"
   ]
  },
  {
   "cell_type": "code",
   "execution_count": 48,
   "metadata": {},
   "outputs": [],
   "source": [
    "# Tạo ngày sinh (dob) ngẫu nhiên từ 1/1/1970 đến 31/12/2005\n",
    "start_date = datetime(1970, 1, 1)\n",
    "end_date = datetime(2005, 12, 31)\n",
    "\n",
    "dob_dates = [start_date + timedelta(days=random.randint(0, (end_date - start_date).days)) for _ in range(num_records)]\n",
    "dob_strings = [date.strftime('%Y-%m-%d') for date in dob_dates]\n",
    "\n"
   ]
  },
  {
   "cell_type": "code",
   "execution_count": 49,
   "metadata": {},
   "outputs": [],
   "source": [
    "# Tạo segment theo tỷ lệ 2-3-5\n",
    "segments = np.random.choice(['KHTT', 'KHCL', 'KHUT'], num_records, p=[0.2, 0.3, 0.5])\n",
    "\n"
   ]
  },
  {
   "cell_type": "code",
   "execution_count": 50,
   "metadata": {},
   "outputs": [],
   "source": [
    "# Tạo DataFrame từ các dữ liệu đã tạo\n",
    "data = {\n",
    "    'customer_id': customer_ids.astype(str),\n",
    "    'full_name': full_names,\n",
    "    'target_code': target_codes,\n",
    "    'gender': genders,\n",
    "    'dob': dob_strings,\n",
    "    'segment': segments\n",
    "}\n",
    "\n"
   ]
  },
  {
   "cell_type": "code",
   "execution_count": 51,
   "metadata": {},
   "outputs": [
    {
     "name": "stdout",
     "output_type": "stream",
     "text": [
      "  customer_id     full_name  target_code  gender         dob segment\n",
      "0    63205802  Daniel Lewis         4000  FEMALE  1981-11-30    KHUT\n",
      "1    83990555   James Lewis         4000    MALE  1996-04-04    KHUT\n",
      "2    62980626    John Davis         4000  FEMALE  1995-07-02    KHCL\n",
      "3    59803307  Emily Garcia         4000    MALE  1988-12-07    KHUT\n",
      "4    67706131   James White         4000  FEMALE  1985-07-27    KHUT\n"
     ]
    }
   ],
   "source": [
    "df = pd.DataFrame(data)\n",
    "\n",
    "# In thông tin mẫu của DataFrame\n",
    "print(df.head())"
   ]
  },
  {
   "cell_type": "code",
   "execution_count": 52,
   "metadata": {},
   "outputs": [],
   "source": [
    "# Số lượng bản ghi trong account\n",
    "num_records_account = 8000\n",
    "\n",
    "# Tạo account_number là chuỗi ký tự số có độ dài 12\n",
    "account_numbers = [''.join(random.choices('0123456789', k=12)) for _ in range(num_records_account)]\n"
   ]
  },
  {
   "cell_type": "code",
   "execution_count": 53,
   "metadata": {},
   "outputs": [],
   "source": [
    "# Sử dụng tập customer_id đã tạo ở trước đó để tạo customer_id cho account\n",
    "customer_ids_account = np.random.choice(df['customer_id'], num_records_account)\n"
   ]
  },
  {
   "cell_type": "code",
   "execution_count": 54,
   "metadata": {},
   "outputs": [],
   "source": [
    "# Tạo opening_date ngẫu nhiên từ 1/1/2020 đến 31/5/2024\n",
    "start_date = datetime(2020, 1, 1)\n",
    "end_date = datetime(2024, 5, 31)\n",
    "\n",
    "opening_dates = [start_date + timedelta(days=random.randint(0, (end_date - start_date).days)) for _ in range(num_records_account)]\n",
    "opening_date_strings = [date.strftime('%Y-%m-%d') for date in opening_dates]\n"
   ]
  },
  {
   "cell_type": "code",
   "execution_count": 55,
   "metadata": {},
   "outputs": [],
   "source": [
    "# Tạo product_id gồm 1001 và 1023 theo tỷ lệ 7-3\n",
    "product_ids = np.random.choice([1001, 1023], num_records_account, p=[0.7, 0.3])\n"
   ]
  },
  {
   "cell_type": "code",
   "execution_count": 56,
   "metadata": {},
   "outputs": [],
   "source": [
    "# Tạo currency gồm VND, USD, EUR theo tỷ lệ 8-1.5-0.5\n",
    "currencies = np.random.choice(['VND', 'USD', 'EUR'], num_records_account, p=[0.8, 0.15, 0.05])\n"
   ]
  },
  {
   "cell_type": "code",
   "execution_count": 57,
   "metadata": {},
   "outputs": [],
   "source": [
    "# Tạo DataFrame account từ các dữ liệu đã tạo\n",
    "data_account = {\n",
    "    'account_number': account_numbers,\n",
    "    'customer_id': customer_ids_account,\n",
    "    'opening_date': opening_date_strings,\n",
    "    'product_id': product_ids,\n",
    "    'currency': currencies\n",
    "}\n"
   ]
  },
  {
   "cell_type": "code",
   "execution_count": 58,
   "metadata": {},
   "outputs": [
    {
     "name": "stdout",
     "output_type": "stream",
     "text": [
      "  account_number customer_id opening_date  product_id currency\n",
      "0   744761900043    58000981   2022-02-14        1001      VND\n",
      "1   555286461200    60035164   2023-03-23        1001      VND\n",
      "2   539668218911    89506712   2023-06-29        1001      VND\n",
      "3   482534465189    25136560   2023-05-24        1001      VND\n",
      "4   119790767773    23819437   2022-04-03        1001      VND\n"
     ]
    }
   ],
   "source": [
    "df_account = pd.DataFrame(data_account)\n",
    "\n",
    "# In thông tin mẫu của DataFrame account\n",
    "print(df_account.head())"
   ]
  },
  {
   "cell_type": "code",
   "execution_count": 59,
   "metadata": {},
   "outputs": [],
   "source": [
    "import psycopg2\n",
    "from psycopg2 import sql\n",
    "\n",
    "# Thông tin kết nối PostgreSQL\n",
    "dbname = \"postgres\"\n",
    "user = \"postgres\"\n",
    "password = \"login1234\"\n",
    "host = \"localhost\"\n",
    "port = \"5432\""
   ]
  },
  {
   "cell_type": "code",
   "execution_count": 71,
   "metadata": {},
   "outputs": [
    {
     "ename": "UndefinedColumn",
     "evalue": "column \"account_number\" of relation \"customer\" does not exist\nLINE 1: INSERT INTO dwh.customer (\"account_number\", \"customer_id\", \"...\n                                  ^\n",
     "output_type": "error",
     "traceback": [
      "\u001b[1;31m---------------------------------------------------------------------------\u001b[0m",
      "\u001b[1;31mUndefinedColumn\u001b[0m                           Traceback (most recent call last)",
      "Cell \u001b[1;32mIn[71], line 20\u001b[0m\n\u001b[0;32m     14\u001b[0m \u001b[38;5;28;01mfor\u001b[39;00m index, row \u001b[38;5;129;01min\u001b[39;00m df_account\u001b[38;5;241m.\u001b[39miterrows():\n\u001b[0;32m     15\u001b[0m     insert_query \u001b[38;5;241m=\u001b[39m sql\u001b[38;5;241m.\u001b[39mSQL(\u001b[38;5;124m\"\u001b[39m\u001b[38;5;124mINSERT INTO dwh.customer (\u001b[39m\u001b[38;5;132;01m{}\u001b[39;00m\u001b[38;5;124m) VALUES (\u001b[39m\u001b[38;5;132;01m{}\u001b[39;00m\u001b[38;5;124m)\u001b[39m\u001b[38;5;124m\"\u001b[39m)\u001b[38;5;241m.\u001b[39mformat(\n\u001b[0;32m     16\u001b[0m         \u001b[38;5;66;03m# sql.Identifier(table_name),\u001b[39;00m\n\u001b[0;32m     17\u001b[0m         sql\u001b[38;5;241m.\u001b[39mSQL(\u001b[38;5;124m'\u001b[39m\u001b[38;5;124m, \u001b[39m\u001b[38;5;124m'\u001b[39m)\u001b[38;5;241m.\u001b[39mjoin(\u001b[38;5;28mmap\u001b[39m(sql\u001b[38;5;241m.\u001b[39mIdentifier, df_account\u001b[38;5;241m.\u001b[39mcolumns)),\n\u001b[0;32m     18\u001b[0m         sql\u001b[38;5;241m.\u001b[39mSQL(\u001b[38;5;124m'\u001b[39m\u001b[38;5;124m, \u001b[39m\u001b[38;5;124m'\u001b[39m)\u001b[38;5;241m.\u001b[39mjoin(\u001b[38;5;28mmap\u001b[39m(sql\u001b[38;5;241m.\u001b[39mLiteral, row))\n\u001b[0;32m     19\u001b[0m     )\n\u001b[1;32m---> 20\u001b[0m     \u001b[43mcursor\u001b[49m\u001b[38;5;241;43m.\u001b[39;49m\u001b[43mexecute\u001b[49m\u001b[43m(\u001b[49m\u001b[43minsert_query\u001b[49m\u001b[43m)\u001b[49m\n\u001b[0;32m     22\u001b[0m \u001b[38;5;66;03m# Lưu thay đổi và đóng kết nối\u001b[39;00m\n\u001b[0;32m     23\u001b[0m conn\u001b[38;5;241m.\u001b[39mcommit()\n",
      "\u001b[1;31mUndefinedColumn\u001b[0m: column \"account_number\" of relation \"customer\" does not exist\nLINE 1: INSERT INTO dwh.customer (\"account_number\", \"customer_id\", \"...\n                                  ^\n"
     ]
    }
   ],
   "source": [
    "# Kết nối đến PostgreSQL\n",
    "conn = psycopg2.connect(dbname=dbname, user=user, password=password, host=host, port=port)\n",
    "\n",
    "# Cursor để thực thi các lệnh SQL\n",
    "cursor = conn.cursor()\n",
    "\n",
    "# Tên bảng trong PostgreSQL\n",
    "table_name = \"dwh.customer\"\n",
    "\n",
    "# cursor.execute(\"select * from dwh.target\")\n",
    "# rows=cursor.fetchall()\n",
    "# print(rows)\n",
    "# Lặp qua từng dòng trong DataFrame và chèn vào bảng\n",
    "for index, row in df.iterrows():\n",
    "    insert_query = sql.SQL(\"INSERT INTO dwh.customer ({}) VALUES ({})\").format(\n",
    "        # sql.Identifier(table_name),\n",
    "        sql.SQL(', ').join(map(sql.Identifier, df.columns)),\n",
    "        sql.SQL(', ').join(map(sql.Literal, row))\n",
    "    )\n",
    "    cursor.execute(insert_query)\n",
    "\n",
    "# Lưu thay đổi và đóng kết nối\n",
    "conn.commit()\n",
    "cursor.close()\n",
    "conn.close()"
   ]
  },
  {
   "cell_type": "code",
   "execution_count": 72,
   "metadata": {},
   "outputs": [],
   "source": [
    "# Kết nối đến PostgreSQL\n",
    "conn = psycopg2.connect(dbname=dbname, user=user, password=password, host=host, port=port)\n",
    "\n",
    "# Cursor để thực thi các lệnh SQL\n",
    "cursor = conn.cursor()\n",
    "\n",
    "# Tên bảng trong PostgreSQL\n",
    "table_name = \"dwh.account\"\n",
    "\n",
    "# cursor.execute(\"select * from dwh.target\")\n",
    "# rows=cursor.fetchall()\n",
    "# print(rows)\n",
    "# Lặp qua từng dòng trong DataFrame và chèn vào bảng\n",
    "for index, row in df_account.iterrows():\n",
    "    insert_query = sql.SQL(\"INSERT INTO dwh.account ({}) VALUES ({})\").format(\n",
    "        # sql.Identifier(table_name),\n",
    "        sql.SQL(', ').join(map(sql.Identifier, df_account.columns)),\n",
    "        sql.SQL(', ').join(map(sql.Literal, row))\n",
    "    )\n",
    "    cursor.execute(insert_query)\n",
    "\n",
    "# Lưu thay đổi và đóng kết nối\n",
    "conn.commit()\n",
    "cursor.close()\n",
    "conn.close()"
   ]
  },
  {
   "cell_type": "code",
   "execution_count": 62,
   "metadata": {},
   "outputs": [],
   "source": [
    "# spark = SparkSession.builder \\\n",
    "#     .appName(\"Import Customer DataFrame to PostgreSQL\") \\\n",
    "#     .config(\"spark.jars\", \"postgresql-42.6.2.jar\") \\\n",
    "#     .getOrCreate()"
   ]
  },
  {
   "cell_type": "code",
   "execution_count": 63,
   "metadata": {},
   "outputs": [],
   "source": [
    "# customer_df = spark.createDataFrame(df)\n"
   ]
  },
  {
   "cell_type": "code",
   "execution_count": 64,
   "metadata": {},
   "outputs": [],
   "source": [
    "# customer_df.printSchema"
   ]
  },
  {
   "cell_type": "code",
   "execution_count": 65,
   "metadata": {},
   "outputs": [],
   "source": [
    "# data_schema = [\n",
    "#     StructField('customer_id', IntegerType(),True), \n",
    "#     StructField('full_name', StringType(), True),\n",
    "#     StructField('target_code', DateType(), True),\n",
    "#     StructField('gender', DoubleType(), True),\n",
    "#     StructField('dob', TimestampType(), True),\n",
    "#     StructField('segment', DoubleType(), True)\n",
    "# ]"
   ]
  },
  {
   "cell_type": "code",
   "execution_count": 66,
   "metadata": {},
   "outputs": [],
   "source": [
    "# from pyspark.sql.functions import col\n",
    "\n",
    "# # Áp dụng schema mới vào customer_df\n",
    "# customer_df = customer_df.withColumn(\"customer_id\", col(\"customer_id\").cast(StringType())) \\\n",
    "#     .withColumn(\"full_name\", col(\"full_name\").cast(StringType())) \\\n",
    "#     .withColumn(\"target_code\", col(\"target_code\").cast(IntegerType())) \\\n",
    "#     .withColumn(\"gender\", col(\"gender\").cast(StringType())) \\\n",
    "#     .withColumn(\"dob\", col(\"dob\").cast(TimestampType())) \\\n",
    "#     .withColumn(\"segment\", col(\"segment\").cast(StringType()))"
   ]
  },
  {
   "cell_type": "code",
   "execution_count": 67,
   "metadata": {},
   "outputs": [],
   "source": [
    "# customer_df.printSchema()"
   ]
  },
  {
   "cell_type": "code",
   "execution_count": 68,
   "metadata": {},
   "outputs": [],
   "source": [
    "# customer_df.select('customer_id').show(5)"
   ]
  },
  {
   "cell_type": "code",
   "execution_count": 69,
   "metadata": {},
   "outputs": [],
   "source": [
    "# customer_df.write.format('jdbc').options(url='jdbc:postgresql://localhost:5432/postgres',\n",
    "#      dbtable='dwh.customer',\n",
    "#      user='postgres',\n",
    "#      password='login1234',\n",
    "#      driver='org.postgresql.Driver',\n",
    "#      schema='dwh').\\\n",
    "#      mode(\"append\").\\\n",
    "#      save()\n",
    "\n",
    "# # jdbc_url = \"jdbc:postgresql://localhost:5432/postgres\"\n",
    "# # db_properties = {\n",
    "# #     \"user\": \"postgres\",\n",
    "# #     \"password\": \"login1234\",\n",
    "# #     \"driver\": \"org.postgresql.Driver\",\n",
    "# #     \"connectTimeout\": \"30000\",  # Timeout kết nối là 30 giây\n",
    "# #     \"socketTimeout\": \"30000\"\n",
    "# # }\n",
    "# # customer_df.write.jdbc(url=jdbc_url, table=\"customer\", mode=\"append\", properties=db_properties)"
   ]
  },
  {
   "cell_type": "code",
   "execution_count": 70,
   "metadata": {},
   "outputs": [],
   "source": [
    "spark.stop()"
   ]
  }
 ],
 "metadata": {
  "kernelspec": {
   "display_name": "Python 3",
   "language": "python",
   "name": "python3"
  },
  "language_info": {
   "codemirror_mode": {
    "name": "ipython",
    "version": 3
   },
   "file_extension": ".py",
   "mimetype": "text/x-python",
   "name": "python",
   "nbconvert_exporter": "python",
   "pygments_lexer": "ipython3",
   "version": "3.9.13"
  }
 },
 "nbformat": 4,
 "nbformat_minor": 2
}
